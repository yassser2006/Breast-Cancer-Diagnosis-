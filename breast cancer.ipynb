{
 "cells": [
  {
   "cell_type": "markdown",
   "metadata": {},
   "source": [
    "### Importing some required libraries for the work"
   ]
  },
  {
   "cell_type": "code",
   "execution_count": 1,
   "metadata": {},
   "outputs": [],
   "source": [
    "import pandas\n",
    "import tensorflow as tf\n",
    "import matplotlib.pyplot as plt\n",
    "import sklearn\n",
    "import seaborn as sns\n",
    "import numpy as np\n",
    "from sklearn.model_selection import train_test_split\n",
    "from sklearn.metrics import mean_squared_error, classification_report, accuracy_score"
   ]
  },
  {
   "cell_type": "markdown",
   "metadata": {},
   "source": [
    "### Importing the data from the to a pandas data frame"
   ]
  },
  {
   "cell_type": "code",
   "execution_count": 19,
   "metadata": {},
   "outputs": [
    {
     "data": {
      "text/html": [
       "<div>\n",
       "<style scoped>\n",
       "    .dataframe tbody tr th:only-of-type {\n",
       "        vertical-align: middle;\n",
       "    }\n",
       "\n",
       "    .dataframe tbody tr th {\n",
       "        vertical-align: top;\n",
       "    }\n",
       "\n",
       "    .dataframe thead th {\n",
       "        text-align: right;\n",
       "    }\n",
       "</style>\n",
       "<table border=\"1\" class=\"dataframe\">\n",
       "  <thead>\n",
       "    <tr style=\"text-align: right;\">\n",
       "      <th></th>\n",
       "      <th>id</th>\n",
       "      <th>diagnosis</th>\n",
       "      <th>radius_mean</th>\n",
       "      <th>texture_mean</th>\n",
       "      <th>perimeter_mean</th>\n",
       "      <th>area_mean</th>\n",
       "      <th>smoothness_mean</th>\n",
       "      <th>compactness_mean</th>\n",
       "      <th>concavity_mean</th>\n",
       "      <th>concave points_mean</th>\n",
       "      <th>...</th>\n",
       "      <th>texture_worst</th>\n",
       "      <th>perimeter_worst</th>\n",
       "      <th>area_worst</th>\n",
       "      <th>smoothness_worst</th>\n",
       "      <th>compactness_worst</th>\n",
       "      <th>concavity_worst</th>\n",
       "      <th>concave points_worst</th>\n",
       "      <th>symmetry_worst</th>\n",
       "      <th>fractal_dimension_worst</th>\n",
       "      <th>Unnamed: 32</th>\n",
       "    </tr>\n",
       "  </thead>\n",
       "  <tbody>\n",
       "    <tr>\n",
       "      <th>0</th>\n",
       "      <td>842302</td>\n",
       "      <td>M</td>\n",
       "      <td>17.99</td>\n",
       "      <td>10.38</td>\n",
       "      <td>122.80</td>\n",
       "      <td>1001.0</td>\n",
       "      <td>0.11840</td>\n",
       "      <td>0.27760</td>\n",
       "      <td>0.3001</td>\n",
       "      <td>0.14710</td>\n",
       "      <td>...</td>\n",
       "      <td>17.33</td>\n",
       "      <td>184.60</td>\n",
       "      <td>2019.0</td>\n",
       "      <td>0.1622</td>\n",
       "      <td>0.6656</td>\n",
       "      <td>0.7119</td>\n",
       "      <td>0.2654</td>\n",
       "      <td>0.4601</td>\n",
       "      <td>0.11890</td>\n",
       "      <td>NaN</td>\n",
       "    </tr>\n",
       "    <tr>\n",
       "      <th>1</th>\n",
       "      <td>842517</td>\n",
       "      <td>M</td>\n",
       "      <td>20.57</td>\n",
       "      <td>17.77</td>\n",
       "      <td>132.90</td>\n",
       "      <td>1326.0</td>\n",
       "      <td>0.08474</td>\n",
       "      <td>0.07864</td>\n",
       "      <td>0.0869</td>\n",
       "      <td>0.07017</td>\n",
       "      <td>...</td>\n",
       "      <td>23.41</td>\n",
       "      <td>158.80</td>\n",
       "      <td>1956.0</td>\n",
       "      <td>0.1238</td>\n",
       "      <td>0.1866</td>\n",
       "      <td>0.2416</td>\n",
       "      <td>0.1860</td>\n",
       "      <td>0.2750</td>\n",
       "      <td>0.08902</td>\n",
       "      <td>NaN</td>\n",
       "    </tr>\n",
       "    <tr>\n",
       "      <th>2</th>\n",
       "      <td>84300903</td>\n",
       "      <td>M</td>\n",
       "      <td>19.69</td>\n",
       "      <td>21.25</td>\n",
       "      <td>130.00</td>\n",
       "      <td>1203.0</td>\n",
       "      <td>0.10960</td>\n",
       "      <td>0.15990</td>\n",
       "      <td>0.1974</td>\n",
       "      <td>0.12790</td>\n",
       "      <td>...</td>\n",
       "      <td>25.53</td>\n",
       "      <td>152.50</td>\n",
       "      <td>1709.0</td>\n",
       "      <td>0.1444</td>\n",
       "      <td>0.4245</td>\n",
       "      <td>0.4504</td>\n",
       "      <td>0.2430</td>\n",
       "      <td>0.3613</td>\n",
       "      <td>0.08758</td>\n",
       "      <td>NaN</td>\n",
       "    </tr>\n",
       "    <tr>\n",
       "      <th>3</th>\n",
       "      <td>84348301</td>\n",
       "      <td>M</td>\n",
       "      <td>11.42</td>\n",
       "      <td>20.38</td>\n",
       "      <td>77.58</td>\n",
       "      <td>386.1</td>\n",
       "      <td>0.14250</td>\n",
       "      <td>0.28390</td>\n",
       "      <td>0.2414</td>\n",
       "      <td>0.10520</td>\n",
       "      <td>...</td>\n",
       "      <td>26.50</td>\n",
       "      <td>98.87</td>\n",
       "      <td>567.7</td>\n",
       "      <td>0.2098</td>\n",
       "      <td>0.8663</td>\n",
       "      <td>0.6869</td>\n",
       "      <td>0.2575</td>\n",
       "      <td>0.6638</td>\n",
       "      <td>0.17300</td>\n",
       "      <td>NaN</td>\n",
       "    </tr>\n",
       "    <tr>\n",
       "      <th>4</th>\n",
       "      <td>84358402</td>\n",
       "      <td>M</td>\n",
       "      <td>20.29</td>\n",
       "      <td>14.34</td>\n",
       "      <td>135.10</td>\n",
       "      <td>1297.0</td>\n",
       "      <td>0.10030</td>\n",
       "      <td>0.13280</td>\n",
       "      <td>0.1980</td>\n",
       "      <td>0.10430</td>\n",
       "      <td>...</td>\n",
       "      <td>16.67</td>\n",
       "      <td>152.20</td>\n",
       "      <td>1575.0</td>\n",
       "      <td>0.1374</td>\n",
       "      <td>0.2050</td>\n",
       "      <td>0.4000</td>\n",
       "      <td>0.1625</td>\n",
       "      <td>0.2364</td>\n",
       "      <td>0.07678</td>\n",
       "      <td>NaN</td>\n",
       "    </tr>\n",
       "  </tbody>\n",
       "</table>\n",
       "<p>5 rows × 33 columns</p>\n",
       "</div>"
      ],
      "text/plain": [
       "         id diagnosis  radius_mean  texture_mean  perimeter_mean  area_mean  \\\n",
       "0    842302         M        17.99         10.38          122.80     1001.0   \n",
       "1    842517         M        20.57         17.77          132.90     1326.0   \n",
       "2  84300903         M        19.69         21.25          130.00     1203.0   \n",
       "3  84348301         M        11.42         20.38           77.58      386.1   \n",
       "4  84358402         M        20.29         14.34          135.10     1297.0   \n",
       "\n",
       "   smoothness_mean  compactness_mean  concavity_mean  concave points_mean  \\\n",
       "0          0.11840           0.27760          0.3001              0.14710   \n",
       "1          0.08474           0.07864          0.0869              0.07017   \n",
       "2          0.10960           0.15990          0.1974              0.12790   \n",
       "3          0.14250           0.28390          0.2414              0.10520   \n",
       "4          0.10030           0.13280          0.1980              0.10430   \n",
       "\n",
       "      ...       texture_worst  perimeter_worst  area_worst  smoothness_worst  \\\n",
       "0     ...               17.33           184.60      2019.0            0.1622   \n",
       "1     ...               23.41           158.80      1956.0            0.1238   \n",
       "2     ...               25.53           152.50      1709.0            0.1444   \n",
       "3     ...               26.50            98.87       567.7            0.2098   \n",
       "4     ...               16.67           152.20      1575.0            0.1374   \n",
       "\n",
       "   compactness_worst  concavity_worst  concave points_worst  symmetry_worst  \\\n",
       "0             0.6656           0.7119                0.2654          0.4601   \n",
       "1             0.1866           0.2416                0.1860          0.2750   \n",
       "2             0.4245           0.4504                0.2430          0.3613   \n",
       "3             0.8663           0.6869                0.2575          0.6638   \n",
       "4             0.2050           0.4000                0.1625          0.2364   \n",
       "\n",
       "   fractal_dimension_worst  Unnamed: 32  \n",
       "0                  0.11890          NaN  \n",
       "1                  0.08902          NaN  \n",
       "2                  0.08758          NaN  \n",
       "3                  0.17300          NaN  \n",
       "4                  0.07678          NaN  \n",
       "\n",
       "[5 rows x 33 columns]"
      ]
     },
     "execution_count": 19,
     "metadata": {},
     "output_type": "execute_result"
    }
   ],
   "source": [
    "df = pandas.read_csv(\"data.csv\")\n",
    "df.head(5)"
   ]
  },
  {
   "cell_type": "markdown",
   "metadata": {},
   "source": [
    "### Investigating the data columns"
   ]
  },
  {
   "cell_type": "code",
   "execution_count": 20,
   "metadata": {},
   "outputs": [
    {
     "name": "stdout",
     "output_type": "stream",
     "text": [
      "Index(['id', 'diagnosis', 'radius_mean', 'texture_mean', 'perimeter_mean',\n",
      "       'area_mean', 'smoothness_mean', 'compactness_mean', 'concavity_mean',\n",
      "       'concave points_mean', 'symmetry_mean', 'fractal_dimension_mean',\n",
      "       'radius_se', 'texture_se', 'perimeter_se', 'area_se', 'smoothness_se',\n",
      "       'compactness_se', 'concavity_se', 'concave points_se', 'symmetry_se',\n",
      "       'fractal_dimension_se', 'radius_worst', 'texture_worst',\n",
      "       'perimeter_worst', 'area_worst', 'smoothness_worst',\n",
      "       'compactness_worst', 'concavity_worst', 'concave points_worst',\n",
      "       'symmetry_worst', 'fractal_dimension_worst', 'Unnamed: 32'],\n",
      "      dtype='object')\n"
     ]
    },
    {
     "data": {
      "text/plain": [
       "(569, 33)"
      ]
     },
     "execution_count": 20,
     "metadata": {},
     "output_type": "execute_result"
    }
   ],
   "source": [
    "print(df.columns)\n",
    "df.shape"
   ]
  },
  {
   "cell_type": "markdown",
   "metadata": {},
   "source": [
    "### Make the labels readable for the system"
   ]
  },
  {
   "cell_type": "code",
   "execution_count": 21,
   "metadata": {},
   "outputs": [
    {
     "data": {
      "text/plain": [
       "(569, 31)"
      ]
     },
     "execution_count": 21,
     "metadata": {},
     "output_type": "execute_result"
    }
   ],
   "source": [
    "df = df[df.columns[1:32]]\n",
    "df.shape"
   ]
  },
  {
   "cell_type": "code",
   "execution_count": 37,
   "metadata": {},
   "outputs": [
    {
     "data": {
      "text/plain": [
       "B    357\n",
       "M    212\n",
       "Name: diagnosis, dtype: int64"
      ]
     },
     "execution_count": 37,
     "metadata": {},
     "output_type": "execute_result"
    }
   ],
   "source": [
    "df['diagnosis'].value_counts()"
   ]
  },
  {
   "cell_type": "code",
   "execution_count": 38,
   "metadata": {},
   "outputs": [
    {
     "data": {
      "text/plain": [
       "0    357\n",
       "1    212\n",
       "Name: diagnosis, dtype: int64"
      ]
     },
     "execution_count": 38,
     "metadata": {},
     "output_type": "execute_result"
    }
   ],
   "source": [
    "d = {'M': 1, 'B': 0}\n",
    "df['diagnosis'] = df['diagnosis'].map(d)\n",
    "df['diagnosis'].value_counts()"
   ]
  },
  {
   "cell_type": "markdown",
   "metadata": {},
   "source": [
    "### Drawing heat map for the data"
   ]
  },
  {
   "cell_type": "code",
   "execution_count": 39,
   "metadata": {},
   "outputs": [
    {
     "data": {
      "image/png": "[encoded data removed]",
      "text/plain": [
       "<Figure size 864x648 with 2 Axes>"
      ]
     },
     "metadata": {
      "needs_background": "light"
     },
     "output_type": "display_data"
    }
   ],
   "source": [
    "corrmat = df.corr()\n",
    "fig = plt.figure(figsize = (12,9))\n",
    "\n",
    "sns.heatmap(corrmat, vmax=1 , square = True)\n",
    "plt.show()"
   ]
  },
  {
   "cell_type": "markdown",
   "metadata": {},
   "source": [
    "### Preparing data and divide it into target and features"
   ]
  },
  {
   "cell_type": "code",
   "execution_count": 71,
   "metadata": {},
   "outputs": [
    {
     "name": "stdout",
     "output_type": "stream",
     "text": [
      "diagnosis\n",
      "Index(['radius_mean', 'texture_mean', 'perimeter_mean', 'area_mean',\n",
      "       'smoothness_mean', 'compactness_mean', 'concavity_mean',\n",
      "       'concave points_mean', 'symmetry_mean', 'fractal_dimension_mean',\n",
      "       'radius_se', 'texture_se', 'perimeter_se', 'area_se', 'smoothness_se',\n",
      "       'compactness_se', 'concavity_se', 'concave points_se', 'symmetry_se',\n",
      "       'fractal_dimension_se', 'radius_worst', 'texture_worst',\n",
      "       'perimeter_worst', 'area_worst', 'smoothness_worst',\n",
      "       'compactness_worst', 'concavity_worst', 'concave points_worst',\n",
      "       'symmetry_worst', 'fractal_dimension_worst'],\n",
      "      dtype='object')\n"
     ]
    }
   ],
   "source": [
    "features = df.columns[1:31]\n",
    "target = 'diagnosis'\n",
    "\n",
    "print(target)\n",
    "print(features)\n"
   ]
  },
  {
   "cell_type": "markdown",
   "metadata": {},
   "source": [
    "### Scaling the data"
   ]
  },
  {
   "cell_type": "code",
   "execution_count": 45,
   "metadata": {},
   "outputs": [
    {
     "data": {
      "text/html": [
       "<div>\n",
       "<style scoped>\n",
       "    .dataframe tbody tr th:only-of-type {\n",
       "        vertical-align: middle;\n",
       "    }\n",
       "\n",
       "    .dataframe tbody tr th {\n",
       "        vertical-align: top;\n",
       "    }\n",
       "\n",
       "    .dataframe thead th {\n",
       "        text-align: right;\n",
       "    }\n",
       "</style>\n",
       "<table border=\"1\" class=\"dataframe\">\n",
       "  <thead>\n",
       "    <tr style=\"text-align: right;\">\n",
       "      <th></th>\n",
       "      <th>diagnosis</th>\n",
       "      <th>radius_mean</th>\n",
       "      <th>texture_mean</th>\n",
       "      <th>perimeter_mean</th>\n",
       "      <th>area_mean</th>\n",
       "      <th>smoothness_mean</th>\n",
       "      <th>compactness_mean</th>\n",
       "      <th>concavity_mean</th>\n",
       "      <th>concave points_mean</th>\n",
       "      <th>symmetry_mean</th>\n",
       "      <th>...</th>\n",
       "      <th>radius_worst</th>\n",
       "      <th>texture_worst</th>\n",
       "      <th>perimeter_worst</th>\n",
       "      <th>area_worst</th>\n",
       "      <th>smoothness_worst</th>\n",
       "      <th>compactness_worst</th>\n",
       "      <th>concavity_worst</th>\n",
       "      <th>concave points_worst</th>\n",
       "      <th>symmetry_worst</th>\n",
       "      <th>fractal_dimension_worst</th>\n",
       "    </tr>\n",
       "  </thead>\n",
       "  <tbody>\n",
       "    <tr>\n",
       "      <th>0</th>\n",
       "      <td>1</td>\n",
       "      <td>0.182815</td>\n",
       "      <td>-0.301307</td>\n",
       "      <td>0.213053</td>\n",
       "      <td>0.146813</td>\n",
       "      <td>0.198968</td>\n",
       "      <td>0.531437</td>\n",
       "      <td>0.495081</td>\n",
       "      <td>0.487976</td>\n",
       "      <td>0.306758</td>\n",
       "      <td>...</td>\n",
       "      <td>0.324113</td>\n",
       "      <td>-0.222474</td>\n",
       "      <td>0.385173</td>\n",
       "      <td>0.279792</td>\n",
       "      <td>0.196998</td>\n",
       "      <td>0.399079</td>\n",
       "      <td>0.351207</td>\n",
       "      <td>0.518192</td>\n",
       "      <td>0.335156</td>\n",
       "      <td>0.229268</td>\n",
       "    </tr>\n",
       "    <tr>\n",
       "      <th>1</th>\n",
       "      <td>1</td>\n",
       "      <td>0.304923</td>\n",
       "      <td>-0.051392</td>\n",
       "      <td>0.282848</td>\n",
       "      <td>0.284671</td>\n",
       "      <td>-0.104905</td>\n",
       "      <td>-0.078833</td>\n",
       "      <td>-0.004450</td>\n",
       "      <td>0.105621</td>\n",
       "      <td>0.000193</td>\n",
       "      <td>...</td>\n",
       "      <td>0.310239</td>\n",
       "      <td>-0.060427</td>\n",
       "      <td>0.256680</td>\n",
       "      <td>0.264308</td>\n",
       "      <td>-0.056585</td>\n",
       "      <td>-0.065649</td>\n",
       "      <td>-0.024432</td>\n",
       "      <td>0.245339</td>\n",
       "      <td>-0.029717</td>\n",
       "      <td>0.033282</td>\n",
       "    </tr>\n",
       "    <tr>\n",
       "      <th>2</th>\n",
       "      <td>1</td>\n",
       "      <td>0.263274</td>\n",
       "      <td>0.066295</td>\n",
       "      <td>0.262808</td>\n",
       "      <td>0.232497</td>\n",
       "      <td>0.119524</td>\n",
       "      <td>0.170416</td>\n",
       "      <td>0.254453</td>\n",
       "      <td>0.392549</td>\n",
       "      <td>0.129991</td>\n",
       "      <td>...</td>\n",
       "      <td>0.259723</td>\n",
       "      <td>-0.003924</td>\n",
       "      <td>0.225304</td>\n",
       "      <td>0.203602</td>\n",
       "      <td>0.079452</td>\n",
       "      <td>0.165163</td>\n",
       "      <td>0.142341</td>\n",
       "      <td>0.441216</td>\n",
       "      <td>0.140399</td>\n",
       "      <td>0.023837</td>\n",
       "    </tr>\n",
       "    <tr>\n",
       "      <th>3</th>\n",
       "      <td>1</td>\n",
       "      <td>-0.128132</td>\n",
       "      <td>0.036874</td>\n",
       "      <td>-0.099434</td>\n",
       "      <td>-0.114014</td>\n",
       "      <td>0.416536</td>\n",
       "      <td>0.550761</td>\n",
       "      <td>0.357546</td>\n",
       "      <td>0.279726</td>\n",
       "      <td>0.396657</td>\n",
       "      <td>...</td>\n",
       "      <td>-0.048353</td>\n",
       "      <td>0.021929</td>\n",
       "      <td>-0.041791</td>\n",
       "      <td>-0.076898</td>\n",
       "      <td>0.511335</td>\n",
       "      <td>0.593799</td>\n",
       "      <td>0.331239</td>\n",
       "      <td>0.491044</td>\n",
       "      <td>0.736693</td>\n",
       "      <td>0.584115</td>\n",
       "    </tr>\n",
       "    <tr>\n",
       "      <th>4</th>\n",
       "      <td>1</td>\n",
       "      <td>0.291671</td>\n",
       "      <td>-0.167388</td>\n",
       "      <td>0.298051</td>\n",
       "      <td>0.272369</td>\n",
       "      <td>0.035567</td>\n",
       "      <td>0.087292</td>\n",
       "      <td>0.255859</td>\n",
       "      <td>0.275253</td>\n",
       "      <td>-0.001323</td>\n",
       "      <td>...</td>\n",
       "      <td>0.223081</td>\n",
       "      <td>-0.240065</td>\n",
       "      <td>0.223810</td>\n",
       "      <td>0.170669</td>\n",
       "      <td>0.033226</td>\n",
       "      <td>-0.047797</td>\n",
       "      <td>0.102086</td>\n",
       "      <td>0.164583</td>\n",
       "      <td>-0.105806</td>\n",
       "      <td>-0.047001</td>\n",
       "    </tr>\n",
       "  </tbody>\n",
       "</table>\n",
       "<p>5 rows × 31 columns</p>\n",
       "</div>"
      ],
      "text/plain": [
       "   diagnosis  radius_mean  texture_mean  perimeter_mean  area_mean  \\\n",
       "0          1     0.182815     -0.301307        0.213053   0.146813   \n",
       "1          1     0.304923     -0.051392        0.282848   0.284671   \n",
       "2          1     0.263274      0.066295        0.262808   0.232497   \n",
       "3          1    -0.128132      0.036874       -0.099434  -0.114014   \n",
       "4          1     0.291671     -0.167388        0.298051   0.272369   \n",
       "\n",
       "   smoothness_mean  compactness_mean  concavity_mean  concave points_mean  \\\n",
       "0         0.198968          0.531437        0.495081             0.487976   \n",
       "1        -0.104905         -0.078833       -0.004450             0.105621   \n",
       "2         0.119524          0.170416        0.254453             0.392549   \n",
       "3         0.416536          0.550761        0.357546             0.279726   \n",
       "4         0.035567          0.087292        0.255859             0.275253   \n",
       "\n",
       "   symmetry_mean           ...             radius_worst  texture_worst  \\\n",
       "0       0.306758           ...                 0.324113      -0.222474   \n",
       "1       0.000193           ...                 0.310239      -0.060427   \n",
       "2       0.129991           ...                 0.259723      -0.003924   \n",
       "3       0.396657           ...                -0.048353       0.021929   \n",
       "4      -0.001323           ...                 0.223081      -0.240065   \n",
       "\n",
       "   perimeter_worst  area_worst  smoothness_worst  compactness_worst  \\\n",
       "0         0.385173    0.279792          0.196998           0.399079   \n",
       "1         0.256680    0.264308         -0.056585          -0.065649   \n",
       "2         0.225304    0.203602          0.079452           0.165163   \n",
       "3        -0.041791   -0.076898          0.511335           0.593799   \n",
       "4         0.223810    0.170669          0.033226          -0.047797   \n",
       "\n",
       "   concavity_worst  concave points_worst  symmetry_worst  \\\n",
       "0         0.351207              0.518192        0.335156   \n",
       "1        -0.024432              0.245339       -0.029717   \n",
       "2         0.142341              0.441216        0.140399   \n",
       "3         0.331239              0.491044        0.736693   \n",
       "4         0.102086              0.164583       -0.105806   \n",
       "\n",
       "   fractal_dimension_worst  \n",
       "0                 0.229268  \n",
       "1                 0.033282  \n",
       "2                 0.023837  \n",
       "3                 0.584115  \n",
       "4                -0.047001  \n",
       "\n",
       "[5 rows x 31 columns]"
      ]
     },
     "execution_count": 45,
     "metadata": {},
     "output_type": "execute_result"
    }
   ],
   "source": [
    "df_scale = df\n",
    "df_scale[features] = (df[features] - df[features].mean()) / (df[features].max() - df[features].min())\n",
    "df_scale.head(5)"
   ]
  },
  {
   "cell_type": "markdown",
   "metadata": {},
   "source": [
    "### Splitting the data into test and Train"
   ]
  },
  {
   "cell_type": "code",
   "execution_count": 47,
   "metadata": {},
   "outputs": [
    {
     "name": "stdout",
     "output_type": "stream",
     "text": [
      "(455, 31)\n",
      "(114, 31)\n"
     ]
    }
   ],
   "source": [
    "train = df_scale.sample(frac=0.8, random_state=1)\n",
    "\n",
    "test = df_scale.loc[~df_scale.index.isin(train.index)]\n",
    "\n",
    "print(train.shape)\n",
    "print(test.shape)"
   ]
  },
  {
   "cell_type": "markdown",
   "metadata": {},
   "source": [
    "### Using a deep neural network to solve it\n"
   ]
  },
  {
   "cell_type": "code",
   "execution_count": 124,
   "metadata": {},
   "outputs": [
    {
     "name": "stdout",
     "output_type": "stream",
     "text": [
      "Epoch 1/40\n",
      "455/455 [==============================] - 12s 26ms/sample - loss: 0.2465\n",
      "Epoch 2/40\n",
      "455/455 [==============================] - 0s 409us/sample - loss: 0.2397\n",
      "Epoch 3/40\n",
      "455/455 [==============================] - 0s 374us/sample - loss: 0.2290\n",
      "Epoch 4/40\n",
      "455/455 [==============================] - 0s 468us/sample - loss: 0.2165\n",
      "Epoch 5/40\n",
      "455/455 [==============================] - 0s 422us/sample - loss: 0.2031\n",
      "Epoch 6/40\n",
      "455/455 [==============================] - 0s 457us/sample - loss: 0.1885\n",
      "Epoch 7/40\n",
      "455/455 [==============================] - 0s 304us/sample - loss: 0.1732\n",
      "Epoch 8/40\n",
      "455/455 [==============================] - 0s 363us/sample - loss: 0.1577\n",
      "Epoch 9/40\n",
      "455/455 [==============================] - 0s 369us/sample - loss: 0.1423\n",
      "Epoch 10/40\n",
      "455/455 [==============================] - 0s 343us/sample - loss: 0.1277\n",
      "Epoch 11/40\n",
      "455/455 [==============================] - 0s 297us/sample - loss: 0.1139\n",
      "Epoch 12/40\n",
      "455/455 [==============================] - 0s 277us/sample - loss: 0.1013\n",
      "Epoch 13/40\n",
      "455/455 [==============================] - 0s 339us/sample - loss: 0.0897\n",
      "Epoch 14/40\n",
      "455/455 [==============================] - 0s 411us/sample - loss: 0.0795\n",
      "Epoch 15/40\n",
      "455/455 [==============================] - 0s 227us/sample - loss: 0.0708\n",
      "Epoch 16/40\n",
      "455/455 [==============================] - 0s 244us/sample - loss: 0.0630\n",
      "Epoch 17/40\n",
      "455/455 [==============================] - 0s 299us/sample - loss: 0.0566\n",
      "Epoch 18/40\n",
      "455/455 [==============================] - 0s 279us/sample - loss: 0.0510\n",
      "Epoch 19/40\n",
      "455/455 [==============================] - 0s 284us/sample - loss: 0.0465\n",
      "Epoch 20/40\n",
      "455/455 [==============================] - 0s 282us/sample - loss: 0.0425\n",
      "Epoch 21/40\n",
      "455/455 [==============================] - 0s 334us/sample - loss: 0.0393\n",
      "Epoch 22/40\n",
      "455/455 [==============================] - 0s 312us/sample - loss: 0.0365\n",
      "Epoch 23/40\n",
      "455/455 [==============================] - 0s 169us/sample - loss: 0.0341\n",
      "Epoch 24/40\n",
      "455/455 [==============================] - 0s 271us/sample - loss: 0.0321\n",
      "Epoch 25/40\n",
      "455/455 [==============================] - 0s 213us/sample - loss: 0.0304\n",
      "Epoch 26/40\n",
      "455/455 [==============================] - 0s 246us/sample - loss: 0.0287\n",
      "Epoch 27/40\n",
      "455/455 [==============================] - 0s 194us/sample - loss: 0.0274\n",
      "Epoch 28/40\n",
      "455/455 [==============================] - 0s 207us/sample - loss: 0.0261\n",
      "Epoch 29/40\n",
      "455/455 [==============================] - 0s 244us/sample - loss: 0.0251\n",
      "Epoch 30/40\n",
      "455/455 [==============================] - 0s 266us/sample - loss: 0.0241\n",
      "Epoch 31/40\n",
      "455/455 [==============================] - 0s 176us/sample - loss: 0.0233\n",
      "Epoch 32/40\n",
      "455/455 [==============================] - 0s 244us/sample - loss: 0.0226\n",
      "Epoch 33/40\n",
      "455/455 [==============================] - 0s 218us/sample - loss: 0.0219\n",
      "Epoch 34/40\n",
      "455/455 [==============================] - 0s 202us/sample - loss: 0.0213\n",
      "Epoch 35/40\n",
      "455/455 [==============================] - 0s 231us/sample - loss: 0.0207\n",
      "Epoch 36/40\n",
      "455/455 [==============================] - 0s 246us/sample - loss: 0.0202\n",
      "Epoch 37/40\n",
      "455/455 [==============================] - 0s 209us/sample - loss: 0.0197\n",
      "Epoch 38/40\n",
      "455/455 [==============================] - 0s 238us/sample - loss: 0.0193\n",
      "Epoch 39/40\n",
      "455/455 [==============================] - 0s 249us/sample - loss: 0.0190\n",
      "Epoch 40/40\n",
      "455/455 [==============================] - 0s 183us/sample - loss: 0.0187\n",
      "114/114 [==============================] - 4s 39ms/sample - loss: 0.0185\n",
      "0.9814589293510244\n"
     ]
    }
   ],
   "source": [
    "X_train = train[features]\n",
    "y_train = train[target]\n",
    "X_test = test[features]\n",
    "\n",
    "model = tf.keras.models.Sequential([\n",
    "  tf.keras.layers.Flatten(),\n",
    "  tf.keras.layers.Dense(14, activation=tf.nn.relu),\n",
    "  tf.keras.layers.Dense(7, activation=tf.nn.relu),\n",
    "  tf.keras.layers.Dense(3, activation=tf.nn.relu),\n",
    "  tf.keras.layers.Dense(1, activation=tf.nn.sigmoid)\n",
    "])\n",
    "model.compile(optimizer='adam', loss='mean_squared_error')\n",
    "model.fit(X_train.values, y_train.values, epochs=40, batch_size=50)\n",
    "test_acc = model.evaluate(test[features].values, test[target].values)\n",
    "print(1-test_acc)"
   ]
  },
  {
   "cell_type": "markdown",
   "metadata": {},
   "source": [
    "### Trying xgbaoost"
   ]
  },
  {
   "cell_type": "code",
   "execution_count": 94,
   "metadata": {},
   "outputs": [
    {
     "name": "stdout",
     "output_type": "stream",
     "text": [
      "0.017543859649122806\n",
      "0.9824561403508771\n",
      "              precision    recall  f1-score   support\n",
      "\n",
      "           0       0.97      1.00      0.99        69\n",
      "           1       1.00      0.96      0.98        45\n",
      "\n",
      "   micro avg       0.98      0.98      0.98       114\n",
      "   macro avg       0.99      0.98      0.98       114\n",
      "weighted avg       0.98      0.98      0.98       114\n",
      "\n"
     ]
    }
   ],
   "source": [
    "import xgboost\n",
    "model = xgboost.XGBClassifier()\n",
    "model.fit(X_train, y_train)\n",
    "y_pred = model.predict(X_test)\n",
    "pred = [round(value) for value in y_pred]\n",
    "print(mean_squared_error(pred,test[target]))\n",
    "print(accuracy_score(test[target], pred))\n",
    "print(classification_report(test[target], pred))"
   ]
  },
  {
   "cell_type": "markdown",
   "metadata": {},
   "source": [
    "### Trying Support vector with linear Kernel"
   ]
  },
  {
   "cell_type": "code",
   "execution_count": 113,
   "metadata": {},
   "outputs": [
    {
     "name": "stdout",
     "output_type": "stream",
     "text": [
      "0.02631578947368421\n",
      "0.9736842105263158\n",
      "              precision    recall  f1-score   support\n",
      "\n",
      "           0       0.96      1.00      0.98        69\n",
      "           1       1.00      0.93      0.97        45\n",
      "\n",
      "   micro avg       0.97      0.97      0.97       114\n",
      "   macro avg       0.98      0.97      0.97       114\n",
      "weighted avg       0.97      0.97      0.97       114\n",
      "\n"
     ]
    }
   ],
   "source": [
    "from sklearn import svm\n",
    "\n",
    "C = 1.0\n",
    "svc = svm.SVC(kernel='linear', C=C).fit(train[features],train[target])\n",
    "pred = svc.predict(test[features])\n",
    "pred[pred>0.5] = 1\n",
    "pred[pred<0.5] = 0\n",
    "print(mean_squared_error(pred,test[target]))\n",
    "print(accuracy_score(test[target], pred))\n",
    "print(classification_report(test[target], pred))"
   ]
  },
  {
   "cell_type": "markdown",
   "metadata": {},
   "source": [
    "### Testing KNN after investigating different neighbors numbers and 3 obtained best results\n"
   ]
  },
  {
   "cell_type": "code",
   "execution_count": 114,
   "metadata": {
    "scrolled": true
   },
   "outputs": [
    {
     "name": "stdout",
     "output_type": "stream",
     "text": [
      "0.017543859649122806\n",
      "0.9824561403508771\n",
      "------------===========-------------\n"
     ]
    }
   ],
   "source": [
    "from sklearn.neighbors import KNeighborsClassifier\n",
    "\n",
    "knn = KNeighborsClassifier(n_neighbors=3)\n",
    "knn.fit(X_train,y_train)\n",
    "pred = knn.predict(X_test)\n",
    "pred = [round(value) for value in pred]\n",
    "print(mean_squared_error(pred,test[target]))\n",
    "print(accuracy_score(test[target], pred))\n",
    "print('------------===========-------------')"
   ]
  },
  {
   "cell_type": "markdown",
   "metadata": {},
   "source": [
    "# Conclusion after trying three algorithms the result \n",
    "\n",
    "## SVM got 97.3% Accuracy\n",
    "\n",
    "## Xgboost 98.2% Accuracy\n",
    "\n",
    "## KNN        98.2% Accuracy\n",
    "\n",
    "## DNN         98.1% Accuracy "
   ]
  }
 ],
 "metadata": {
  "kernelspec": {
   "display_name": "Python 3",
   "language": "python",
   "name": "python3"
  },
  "language_info": {
   "codemirror_mode": {
    "name": "ipython",
    "version": 3
   },
   "file_extension": ".py",
   "mimetype": "text/x-python",
   "name": "python",
   "nbconvert_exporter": "python",
   "pygments_lexer": "ipython3",
   "version": "3.7.1"
  }
 },
 "nbformat": 4,
 "nbformat_minor": 2
}
